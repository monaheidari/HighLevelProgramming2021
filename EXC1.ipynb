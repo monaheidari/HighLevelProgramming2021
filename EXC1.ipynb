{
 "cells": [
  {
   "cell_type": "markdown",
   "metadata": {},
   "source": [
    "1. The HelloWorld replacement\n",
    "\n",
    "a) Write a program that prints the numbers from 1 to 100. But for multiples of three print \"Hello\" instead of the number and for the multiples of five print \"World\". For numbers which are multiples of both three and five print \"HelloWorld\".\n",
    "\n",
    "b) Put the result in a tuple and substitute \"Hello\" with \"Python\" and \"World\" with \"Works\"."
   ]
  },
  {
   "cell_type": "code",
   "execution_count": 2,
   "metadata": {},
   "outputs": [
    {
     "name": "stdout",
     "output_type": "stream",
     "text": [
      "1\n",
      "2\n",
      "Hello\n",
      "4\n",
      "World\n",
      "Hello\n",
      "7\n",
      "8\n",
      "Hello\n",
      "World\n",
      "11\n",
      "Hello\n",
      "13\n",
      "14\n",
      "Hello World\n",
      "16\n",
      "17\n",
      "Hello\n",
      "19\n",
      "World\n",
      "Hello\n",
      "22\n",
      "23\n",
      "Hello\n",
      "World\n",
      "26\n",
      "Hello\n",
      "28\n",
      "29\n",
      "Hello World\n",
      "31\n",
      "32\n",
      "Hello\n",
      "34\n",
      "World\n",
      "Hello\n",
      "37\n",
      "38\n",
      "Hello\n",
      "World\n",
      "41\n",
      "Hello\n",
      "43\n",
      "44\n",
      "Hello World\n",
      "46\n",
      "47\n",
      "Hello\n",
      "49\n",
      "World\n",
      "Hello\n",
      "52\n",
      "53\n",
      "Hello\n",
      "World\n",
      "56\n",
      "Hello\n",
      "58\n",
      "59\n",
      "Hello World\n",
      "61\n",
      "62\n",
      "Hello\n",
      "64\n",
      "World\n",
      "Hello\n",
      "67\n",
      "68\n",
      "Hello\n",
      "World\n",
      "71\n",
      "Hello\n",
      "73\n",
      "74\n",
      "Hello World\n",
      "76\n",
      "77\n",
      "Hello\n",
      "79\n",
      "World\n",
      "Hello\n",
      "82\n",
      "83\n",
      "Hello\n",
      "World\n",
      "86\n",
      "Hello\n",
      "88\n",
      "89\n",
      "Hello World\n",
      "91\n",
      "92\n",
      "Hello\n",
      "94\n",
      "World\n",
      "Hello\n",
      "97\n",
      "98\n",
      "Hello\n"
     ]
    }
   ],
   "source": [
    "# question number 1 a\n",
    "    \n",
    "for i in range(1,100):\n",
    "    if(i%3!=0 and i%5!=0 and i%15!=0):\n",
    "        print(str(i))\n",
    "    if(i%3==0 and i%5!=0 and i%15!=0):\n",
    "        print(\"Hello\")\n",
    "    if(i%5==0 and i%15!=0 and i%3!=0):\n",
    "        print(\"World\")\n",
    "    if(i%15==0):\n",
    "        print(\"Hello World\")"
   ]
  },
  {
   "cell_type": "code",
   "execution_count": 6,
   "metadata": {},
   "outputs": [
    {
     "name": "stdout",
     "output_type": "stream",
     "text": [
      "(1, 2, 'PYTHON', 4, 'WORKS', 'PYTHON', 7, 8, 'PYTHON', 'WORKS', 11, 'PYTHON', 13, 14, 'PYTHON WORKS', 16, 17, 'PYTHON', 19, 'WORKS', 'PYTHON', 22, 23, 'PYTHON', 'WORKS', 26, 'PYTHON', 28, 29, 'PYTHON WORKS', 31, 32, 'PYTHON', 34, 'WORKS', 'PYTHON', 37, 38, 'PYTHON', 'WORKS', 41, 'PYTHON', 43, 44, 'PYTHON WORKS', 46, 47, 'PYTHON', 49, 'WORKS', 'PYTHON', 52, 53, 'PYTHON', 'WORKS', 56, 'PYTHON', 58, 59, 'PYTHON WORKS', 61, 62, 'PYTHON', 64, 'WORKS', 'PYTHON', 67, 68, 'PYTHON', 'WORKS', 71, 'PYTHON', 73, 74, 'PYTHON WORKS', 76, 77, 'PYTHON', 79, 'WORKS', 'PYTHON', 82, 83, 'PYTHON', 'WORKS', 86, 'PYTHON', 88, 89, 'PYTHON WORKS', 91, 92, 'PYTHON', 94, 'WORKS', 'PYTHON', 97, 98, 'PYTHON', 'WORKS')\n"
     ]
    }
   ],
   "source": [
    "# question number 1 part b \n",
    "t1=()\n",
    "l1=[]\n",
    "for i in range(1,101):\n",
    "    if(i%3!=0 and i%5!=0 and i%15!=0):\n",
    "        t1 = t1 + (i,)\n",
    "    if(i%3==0 and i%5!=0 and i%15!=0):\n",
    "        t1 = t1 + (\"HELLO\",)\n",
    "    if(i%5==0 and i%15!=0 and i%3!=0):\n",
    "        t1 = t1 + (\"WORLD\",)\n",
    "    if(i%15==0):\n",
    "        t1 = t1 + (\"HELLO WORLD\",)\n",
    "l1=list(t1)\n",
    "for j in range(0,len(t1)):\n",
    "    if l1[j]==\"HELLO\":\n",
    "        l1[j]=\"PYTHON\"\n",
    "    if l1[j]==\"WORLD\":\n",
    "        l1[j]=\"WORKS\"\n",
    "    if l1[j]==\"HELLO WORLD\":\n",
    "        l1[j]=\"PYTHON WORKS\"\n",
    "       \n",
    "t1=tuple(l1)\n",
    "print(t1)\n"
   ]
  },
  {
   "cell_type": "markdown",
   "metadata": {},
   "source": [
    "2\\. The swap function\n",
    "\n",
    "Write a function that swap the values of two input variables x and y (whatever the type). Try to do that also without a temporary variable"
   ]
  },
  {
   "cell_type": "code",
   "execution_count": 7,
   "metadata": {},
   "outputs": [
    {
     "name": "stdout",
     "output_type": "stream",
     "text": [
      "(5, 2)\n"
     ]
    }
   ],
   "source": [
    "def function(a,b):\n",
    "    a,b=b,a\n",
    "    return a,b\n",
    "print(function(2,5))"
   ]
  },
  {
   "cell_type": "markdown",
   "metadata": {},
   "source": [
    "3\\. Computing the distance\n",
    "\n",
    "Write a function that calculates and returns the euclidean distance between two points *u* and *v*, where *u* and *v* are both 2-tuples *(x,y)*. For example, if *u=(3,0)* and *v=(0,4)*, the function should return 5"
   ]
  },
  {
   "cell_type": "code",
   "execution_count": null,
   "metadata": {},
   "outputs": [],
   "source": [
    "import math\n",
    "def function(v,u):\n",
    "    a=abs(int(v[1])-int(u[1]))\n",
    "    b=abs(int(v[0])-int(u[0]))\n",
    "    return math.sqrt((a**2)+(b**2))\n",
    "v=(input(\"type first eleman of v\"),input(\"type second eleman of v\"))\n",
    "u=(input(\"type first eleman of u\"),input(\"type second eleman of u\"))\n",
    "print(function(v,u))"
   ]
  },
  {
   "cell_type": "markdown",
   "metadata": {},
   "source": [
    "4\\. Counting letters\n",
    "\n",
    "Write a program to calculate the number of times each character occurs in a given string *s*. Ignore differences in capitalization"
   ]
  },
  {
   "cell_type": "code",
   "execution_count": 2,
   "metadata": {},
   "outputs": [],
   "source": [
    "s = \"Write a program that prints the numbers from 1 to 100. \\\n",
    "But for multiples of three print Hello instead of the number and for the multiples of five print World. \\\n",
    "For numbers which are multiples of both three and five print HelloWorld.\""
   ]
  },
  {
   "cell_type": "code",
   "execution_count": null,
   "metadata": {},
   "outputs": [],
   "source": [
    "liste=['A','B','C','D','E','F','G','H','I','J','K','L','M','N','O','P','Q','R','S','T','U','V','W','X','Y','Z','.']\n",
    "liste2=[]\n",
    "string=s=\"Write a program that prints the numbers from 1 to 100. \\\n",
    "But for multiples of three print Mickey instead of the number and for the multiples of five print Mouse. \\\n",
    "For numbers which are multiples of both three and five print HELLO WORLD\"\n",
    "string=string.upper()\n",
    "chracters=[x for x in string]\n",
    "for i in range (0,len(liste)):\n",
    "    count=0\n",
    "    for j in range(0,len(chracters)):\n",
    "        if(str(liste[i])==str(chracters[j])):\n",
    "            count+=1\n",
    "        if(j==len(chracters)-1 and count!=0):\n",
    "            print(str(liste[i]),count)"
   ]
  },
  {
   "cell_type": "markdown",
   "metadata": {},
   "source": [
    "5\\. Isolating the unique\n",
    "\n",
    "Write a function that determines and count the unique numbers in the list:"
   ]
  },
  {
   "cell_type": "code",
   "execution_count": 5,
   "metadata": {},
   "outputs": [],
   "source": [
    "l = [36, 45, 58, 3, 74, 96, 64, 45, 31, 10, 24, 19, 33, 86, 99, 18, 63, 70, 85,\n",
    " 85, 63, 47, 56, 42, 70, 84, 88, 55, 20, 54, 8, 56, 51, 79, 81, 57, 37, 91,\n",
    " 1, 84, 84, 36, 66, 9, 89, 50, 42, 91, 50, 95, 90, 98, 39, 16, 82, 31, 92, 41,\n",
    " 45, 30, 66, 70, 34, 85, 94, 5, 3, 36, 72, 91, 84, 34, 87, 75, 53, 51, 20, 89, 51, 20]"
   ]
  },
  {
   "cell_type": "code",
   "execution_count": null,
   "metadata": {},
   "outputs": [],
   "source": [
    "# Write a function that determines and count the unique numbers in the list\n",
    "unique_list = [36, 45, 58, 3, 74, 96, 64, 45, 31, 10, 24, 19, 33, 86, 99, 18, 63, 70, 85,\n",
    "     85, 63, 47, 56, 42, 70, 84, 88, 55, 20, 54, 8, 56, 51, 79, 81, 57, 37, 91,\n",
    "     1, 84, 84, 36, 66, 9, 89, 50, 42, 91, 50, 95, 90, 98, 39, 16, 82, 31, 92, 41,\n",
    "     45, 30, 66, 70, 34, 85, 94, 5, 3, 36, 72, 91, 84, 34, 87, 75, 53, 51, 20, 89, 51, 20]\n",
    "\n",
    "my_list=[8,15,7,1,4,9,6,7,25,78,96,56,356,47,62]\n",
    "\n",
    "found_in_unique_list = []\n",
    "def unique_numbers(unique_list):\n",
    "    for i in range(len(my_list)):\n",
    "        for j in range(len(unique_list)):\n",
    "            if int(my_list[i]) == int(unique_list[j]):\n",
    "                found_in_unique_list.append(int(unique_list[j]))\n",
    "        j=0\n",
    "    i=0        \n",
    "    for i in range(len(found_in_unique_list)):\n",
    "        print(found_in_unique_list[i])\n",
    "    print(\"Number of unique numbers:\" , len(found_in_unique_list))\n",
    "   \n",
    "print(\"Unique numbers in list:\")\n",
    "unique_numbers(unique_list)"
   ]
  },
  {
   "cell_type": "markdown",
   "metadata": {},
   "source": [
    "Do the same without using user-defined functions, but exploiting only the Python data structures."
   ]
  },
  {
   "cell_type": "markdown",
   "metadata": {},
   "source": [
    "6\\. Combination of functions\n",
    "\n",
    "Write two functions - one that returns the square of a number, and one that returns the cube. Now write a third function that returns the number raised to the 6th power using the two previous functions."
   ]
  },
  {
   "cell_type": "code",
   "execution_count": null,
   "metadata": {},
   "outputs": [],
   "source": [
    "a=input(\"input number\")\n",
    "def function2(a):\n",
    "    return a**2\n",
    "def function3(a):\n",
    "    return a**3\n",
    "def function6(a):\n",
    "    return int(function2(a)*function3(a)*(function2(a)/a))\n",
    "function2(int(a))\n",
    "function3(int(a))\n",
    "print(function6(int(a)))\n"
   ]
  },
  {
   "cell_type": "markdown",
   "metadata": {},
   "source": [
    "7\\. Cubes\n",
    "\n",
    "Create a list of the cubes of x for x in *[0, 10]* using:\n",
    "\n",
    "a) a for loop\n",
    "\n",
    "b) a list comprehension"
   ]
  },
  {
   "cell_type": "code",
   "execution_count": null,
   "metadata": {},
   "outputs": [],
   "source": [
    "# A FOR LOOP\n",
    "liste=[]\n",
    "for x in range(0,10):\n",
    "    liste.append(x**3);\n",
    "for i in range(0,10):\n",
    "    print(liste[i])"
   ]
  },
  {
   "cell_type": "code",
   "execution_count": null,
   "metadata": {},
   "outputs": [],
   "source": [
    "# B LIST OF COMPREHENSION\n",
    "liste=[(i**3)for i in range(0,10)]\n",
    "print(liste"
   ]
  },
  {
   "cell_type": "markdown",
   "metadata": {},
   "source": [
    "8\\. Nested list comprehension\n",
    "\n",
    "A Pythagorean triple is an integer solution to the Pythagorean theorem $a^2+b^2=c^2$. The first Pythagorean triple is (3,4,5). Find and put in a tuple all unique Pythagorean triples for the positive integers a, b and c less than 100."
   ]
  },
  {
   "cell_type": "code",
   "execution_count": null,
   "metadata": {},
   "outputs": [],
   "source": [
    "for a in range(0,100):\n",
    "    for b in range(0,100):\n",
    "        for c in range(0,100):\n",
    "            if (int(c**2)==(int(a**2)+int(b**2))and int(a)!=0 and int(b)!=0 and int(c)!=0):\n",
    "                print(\"a=\"+str(a),\"b=\"+str(b),\"c=\"+str(c))\n"
   ]
  },
  {
   "cell_type": "markdown",
   "metadata": {},
   "source": [
    "9\\. Normalization\n",
    "\n",
    "Write a function that takes a tuple of numbers and returns it with the entries normalized to one"
   ]
  },
  {
   "cell_type": "code",
   "execution_count": 1,
   "metadata": {},
   "outputs": [
    {
     "name": "stdout",
     "output_type": "stream",
     "text": [
      "1\n",
      "2\n",
      "Helloo\n",
      "4\n",
      "World\n",
      "Helloo\n",
      "7\n",
      "8\n",
      "Helloo\n",
      "World\n",
      "11\n",
      "Helloo\n",
      "13\n",
      "14\n",
      "Helloworld\n",
      "16\n",
      "17\n",
      "Helloo\n",
      "19\n",
      "World\n",
      "Helloo\n",
      "22\n",
      "23\n",
      "Helloo\n",
      "World\n",
      "26\n",
      "Helloo\n",
      "28\n",
      "29\n",
      "Helloworld\n",
      "31\n",
      "32\n",
      "Helloo\n",
      "34\n",
      "World\n",
      "Helloo\n",
      "37\n",
      "38\n",
      "Helloo\n",
      "World\n",
      "41\n",
      "Helloo\n",
      "43\n",
      "44\n",
      "Helloworld\n",
      "46\n",
      "47\n",
      "Helloo\n",
      "49\n",
      "World\n",
      "Helloo\n",
      "52\n",
      "53\n",
      "Helloo\n",
      "World\n",
      "56\n",
      "Helloo\n",
      "58\n",
      "59\n",
      "Helloworld\n",
      "61\n",
      "62\n",
      "Helloo\n",
      "64\n",
      "World\n",
      "Helloo\n",
      "67\n",
      "68\n",
      "Helloo\n",
      "World\n",
      "71\n",
      "Helloo\n",
      "73\n",
      "74\n",
      "Helloworld\n",
      "76\n",
      "77\n",
      "Helloo\n",
      "79\n",
      "World\n",
      "Helloo\n",
      "82\n",
      "83\n",
      "Helloo\n",
      "World\n",
      "86\n",
      "Helloo\n",
      "88\n",
      "89\n",
      "Helloworld\n",
      "91\n",
      "92\n",
      "Helloo\n",
      "94\n",
      "World\n",
      "Helloo\n",
      "97\n",
      "98\n",
      "Helloo\n"
     ]
    }
   ],
   "source": [
    "for i in range(1,100):\n",
    "    if(i%3!=0 and i%5!=0 and i%15!=0):\n",
    "        print(str(i))\n",
    "    if(i%3==0 and i%5!=0 and i%15!=0):\n",
    "        print(\"Helloo\")\n",
    "    if(i%5==0 and i%15!=0 and i%3!=0):\n",
    "        print(\"World\")\n",
    "    if(i%15==0):\n",
    "        print(\"Helloworld\")"
   ]
  },
  {
   "cell_type": "code",
   "execution_count": null,
   "metadata": {},
   "outputs": [],
   "source": [
    "\n",
    "t1=()\n",
    "l1=[]\n",
    "for i in range(1,101):\n",
    "    if(i%3!=0 and i%5!=0 and i%15!=0):\n",
    "        t1 = t1 + (i,)\n",
    "    if(i%3==0 and i%5!=0 and i%15!=0):\n",
    "        t1 = t1 + (\"Micky\",)\n",
    "    if(i%5==0 and i%15!=0 and i%3!=0):\n",
    "        t1 = t1 + (\"Mouse\",)\n",
    "    if(i%15==0):\n",
    "        t1 = t1 + (\"MickyMouse\",)\n",
    "l1=list(t1)\n",
    "for j in range(0,len(t1)):\n",
    "    if l1[j]==\"Micky\":\n",
    "        l1[j]=\"Donald\"\n",
    "    if l1[j]==\"Mouse\":\n",
    "        l1[j]=\"Duck\"\n",
    "    if l1[j]==\"MickyMouse\":\n",
    "        l1[j]=\"DonaldDuck\"\n",
    "       \n",
    "t1=tuple(l1)\n",
    "print(t1)"
   ]
  },
  {
   "cell_type": "code",
   "execution_count": 2,
   "metadata": {},
   "outputs": [
    {
     "name": "stdout",
     "output_type": "stream",
     "text": [
      "(1, 2, 'Python', 4, 'Works', 'Python', 7, 8, 'Python', 'Works', 11, 'Python', 13, 14, 'PythonWorks', 16, 17, 'Python', 19, 'Works', 'Python', 22, 23, 'Python', 'Works', 26, 'Python', 28, 29, 'PythonWorks', 31, 32, 'Python', 34, 'Works', 'Python', 37, 38, 'Python', 'Works', 41, 'Python', 43, 44, 'PythonWorks', 46, 47, 'Python', 49, 'Works', 'Python', 52, 53, 'Python', 'Works', 56, 'Python', 58, 59, 'PythonWorks', 61, 62, 'Python', 64, 'Works', 'Python', 67, 68, 'Python', 'Works', 71, 'Python', 73, 74, 'PythonWorks', 76, 77, 'Python', 79, 'Works', 'Python', 82, 83, 'Python', 'Works', 86, 'Python', 88, 89, 'PythonWorks', 91, 92, 'Python', 94, 'Works', 'Python', 97, 98, 'Python', 'Works')\n"
     ]
    }
   ],
   "source": [
    "t1=()\n",
    "l1=[]\n",
    "for i in range(1,101):\n",
    "    if(i%3!=0 and i%5!=0 and i%15!=0):\n",
    "        t1 = t1 + (i,)\n",
    "    if(i%3==0 and i%5!=0 and i%15!=0):\n",
    "        t1 = t1 + (\"Hello\",)\n",
    "    if(i%5==0 and i%15!=0 and i%3!=0):\n",
    "        t1 = t1 + (\"World\",)\n",
    "    if(i%15==0):\n",
    "        t1 = t1 + (\"HelloWorld\",)\n",
    "l1=list(t1)\n",
    "for j in range(0,len(t1)):\n",
    "    if l1[j]==\"Hello\":\n",
    "        l1[j]=\"Python\"\n",
    "    if l1[j]==\"World\":\n",
    "        l1[j]=\"Works\"\n",
    "    if l1[j]==\"HelloWorld\":\n",
    "        l1[j]=\"PythonWorks\"\n",
    "       \n",
    "t1=tuple(l1)\n",
    "print(t1)"
   ]
  },
  {
   "cell_type": "code",
   "execution_count": null,
   "metadata": {},
   "outputs": [],
   "source": []
  }
 ],
 "metadata": {
  "kernelspec": {
   "display_name": "Python 3",
   "language": "python",
   "name": "python3"
  },
  "language_info": {
   "codemirror_mode": {
    "name": "ipython",
    "version": 3
   },
   "file_extension": ".py",
   "mimetype": "text/x-python",
   "name": "python",
   "nbconvert_exporter": "python",
   "pygments_lexer": "ipython3",
   "version": "3.8.8"
  }
 },
 "nbformat": 4,
 "nbformat_minor": 2
}
