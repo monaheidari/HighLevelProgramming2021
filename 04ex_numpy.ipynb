{
 "cells": [
  {
   "cell_type": "markdown",
   "metadata": {},
   "source": [
    "1\\. Find the total mean, and the mean for each row and column of the following matrix:\n",
    "\n",
    "```python\n",
    "m = np.arange(12).reshape((3,4))\n",
    "```"
   ]
  },
  {
   "cell_type": "code",
   "execution_count": 5,
   "metadata": {},
   "outputs": [
    {
     "data": {
      "text/plain": [
       "5.5"
      ]
     },
     "execution_count": 5,
     "metadata": {},
     "output_type": "execute_result"
    }
   ],
   "source": [
    "import numpy as np\n",
    "m = np.arange(12).reshape((3,4))\n",
    "np.mean(m)"
   ]
  },
  {
   "cell_type": "code",
   "execution_count": 9,
   "metadata": {},
   "outputs": [
    {
     "name": "stdout",
     "output_type": "stream",
     "text": [
      "mean row 1 1.5\n",
      "mean row 2 5.5\n",
      "mean row 3 9.5\n",
      "mean col 1 4.0\n",
      "mean col 2 5.0\n",
      "mean col 3 6.0\n",
      "mean col 4 7.0\n"
     ]
    }
   ],
   "source": [
    "m = np.arange(12).reshape((3,4))\n",
    "i = 1\n",
    "for r in m:\n",
    "    print(\"mean row\",i,np.mean(r))\n",
    "    i+=1\n",
    "\n",
    "t = m.transpose()\n",
    "i=1\n",
    "for c in t:\n",
    "    print(\"mean col\",i,np.mean(c))\n",
    "    i+=1"
   ]
  },
  {
   "cell_type": "markdown",
   "metadata": {},
   "source": [
    "2\\. Find the outer product of the following vectors:\n",
    "\n",
    "```python\n",
    "u = np.array([1, 3, 5, 7])\n",
    "v = np.array([2, 4, 6, 8])\n",
    "```\n",
    "\n",
    "Use different methods to do this:\n",
    "\n",
    "   1. Using the function `outer` in numpy\n",
    "   2. Using a nested `for` loop or a list comprehension\n",
    "   3. Using numpy broadcasting operations"
   ]
  },
  {
   "cell_type": "code",
   "execution_count": 6,
   "metadata": {},
   "outputs": [
    {
     "data": {
      "text/plain": [
       "array([[ 2,  4,  6,  8],\n",
       "       [ 6, 12, 18, 24],\n",
       "       [10, 20, 30, 40],\n",
       "       [14, 28, 42, 56]])"
      ]
     },
     "execution_count": 6,
     "metadata": {},
     "output_type": "execute_result"
    }
   ],
   "source": [
    "u = np.array([1, 3, 5, 7])\n",
    "v = np.array([2, 4, 6, 8])\n",
    "\n",
    "np.outer(u, v, out=None)"
   ]
  },
  {
   "cell_type": "code",
   "execution_count": 7,
   "metadata": {},
   "outputs": [
    {
     "name": "stdout",
     "output_type": "stream",
     "text": [
      "[[2, 4, 6, 8], [6, 12, 18, 24], [10, 20, 30, 40], [14, 28, 42, 56]]\n"
     ]
    }
   ],
   "source": [
    "u = [1, 3, 5, 7]\n",
    "v = [2, 4, 6, 8]\n",
    "\n",
    "M = []\n",
    "for i in u:\n",
    "    row = []\n",
    "    for j in v:\n",
    "        row.append(i * j)\n",
    "    M.append(row)\n",
    "    \n",
    "print(M)"
   ]
  },
  {
   "cell_type": "code",
   "execution_count": 8,
   "metadata": {},
   "outputs": [
    {
     "data": {
      "text/plain": [
       "array([[ 2,  4,  6,  8],\n",
       "       [ 6, 12, 18, 24],\n",
       "       [10, 20, 30, 40],\n",
       "       [14, 28, 42, 56]])"
      ]
     },
     "execution_count": 8,
     "metadata": {},
     "output_type": "execute_result"
    }
   ],
   "source": [
    "from numpy import array\n",
    "u = np.array([1, 3, 5, 7])\n",
    "v = np.array([2, 4, 6, 8])\n",
    "u[:, np.newaxis] * v"
   ]
  },
  {
   "cell_type": "markdown",
   "metadata": {},
   "source": [
    "3\\. Create a 10 by 6 matrix of increasing float numbers, starting from zero and increasing in each step by 0.1, so the output matrix looks like the following:\n",
    "\n",
    "```python\n",
    "m = [[0. 0.1, 0.2 0.3 ... 0.9]\n",
    "     [1.0 1.1 1.2 1.3 ... 1.9]\n",
    "     ...\n",
    "     [5.0 5.1 5.2 5.3 ... 5.9]]\n",
    "```\n",
    "After creating the matrix, set all entries with a decimal part $< 0.4$ to zero."
   ]
  },
  {
   "cell_type": "code",
   "execution_count": 9,
   "metadata": {},
   "outputs": [
    {
     "data": {
      "text/plain": [
       "array([[0. , 0.1, 0.2, 0.3, 0.4, 0.5, 0.6, 0.7, 0.8, 0.9],\n",
       "       [1. , 1.1, 1.2, 1.3, 1.4, 1.5, 1.6, 1.7, 1.8, 1.9],\n",
       "       [2. , 2.1, 2.2, 2.3, 2.4, 2.5, 2.6, 2.7, 2.8, 2.9],\n",
       "       [3. , 3.1, 3.2, 3.3, 3.4, 3.5, 3.6, 3.7, 3.8, 3.9],\n",
       "       [4. , 4.1, 4.2, 4.3, 4.4, 4.5, 4.6, 4.7, 4.8, 4.9],\n",
       "       [5. , 5.1, 5.2, 5.3, 5.4, 5.5, 5.6, 5.7, 5.8, 5.9]])"
      ]
     },
     "execution_count": 9,
     "metadata": {},
     "output_type": "execute_result"
    }
   ],
   "source": [
    "a = np.arange(0, 6, 0.1).reshape(6, 10)\n",
    "a"
   ]
  },
  {
   "cell_type": "code",
   "execution_count": 10,
   "metadata": {},
   "outputs": [
    {
     "name": "stdout",
     "output_type": "stream",
     "text": [
      "[[0.  0.  0.  0.  0.4 0.5 0.6 0.7 0.8 0.9]\n",
      " [0.  0.  0.  0.  1.4 1.5 1.6 1.7 1.8 1.9]\n",
      " [0.  0.  0.  0.  2.4 2.5 2.6 2.7 2.8 2.9]\n",
      " [0.  0.  0.  0.  3.4 3.5 3.6 3.7 3.8 3.9]\n",
      " [0.  0.  0.  0.  4.4 4.5 4.6 4.7 4.8 4.9]\n",
      " [0.  0.  0.  0.  5.4 5.5 5.6 5.7 5.8 5.9]]\n"
     ]
    }
   ],
   "source": [
    "print (np.where(a%1 < 0.4, 0, a))"
   ]
  },
  {
   "cell_type": "markdown",
   "metadata": {},
   "source": [
    "4\\. Use `np.linspace` to create an array of 100 numbers between 0 and 2π (inclusive).\n",
    "\n",
    "  * Extract every 10th element using the slice notation\n",
    "  * Reverse the array using the slice notation\n",
    "  * Extract elements where the absolute difference between the sin and cos functions evaluated for that element is $< 0.1$\n",
    "  * **Optional**: make a plot showing the sin and cos functions and indicate where they are close"
   ]
  },
  {
   "cell_type": "code",
   "execution_count": 14,
   "metadata": {},
   "outputs": [
    {
     "data": {
      "text/plain": [
       "array([0.        , 0.03173326, 0.06346652, 0.09519978, 0.12693304,\n",
       "       0.1586663 , 0.19039955, 0.22213281, 0.25386607, 0.28559933,\n",
       "       0.31733259, 0.34906585, 0.38079911, 0.41253237, 0.44426563,\n",
       "       0.47599889, 0.50773215, 0.53946541, 0.57119866, 0.60293192,\n",
       "       0.63466518, 0.66639844, 0.6981317 , 0.72986496, 0.76159822,\n",
       "       0.79333148, 0.82506474, 0.856798  , 0.88853126, 0.92026451,\n",
       "       0.95199777, 0.98373103, 1.01546429, 1.04719755, 1.07893081,\n",
       "       1.11066407, 1.14239733, 1.17413059, 1.20586385, 1.23759711,\n",
       "       1.26933037, 1.30106362, 1.33279688, 1.36453014, 1.3962634 ,\n",
       "       1.42799666, 1.45972992, 1.49146318, 1.52319644, 1.5549297 ,\n",
       "       1.58666296, 1.61839622, 1.65012947, 1.68186273, 1.71359599,\n",
       "       1.74532925, 1.77706251, 1.80879577, 1.84052903, 1.87226229,\n",
       "       1.90399555, 1.93572881, 1.96746207, 1.99919533, 2.03092858,\n",
       "       2.06266184, 2.0943951 , 2.12612836, 2.15786162, 2.18959488,\n",
       "       2.22132814, 2.2530614 , 2.28479466, 2.31652792, 2.34826118,\n",
       "       2.37999443, 2.41172769, 2.44346095, 2.47519421, 2.50692747,\n",
       "       2.53866073, 2.57039399, 2.60212725, 2.63386051, 2.66559377,\n",
       "       2.69732703, 2.72906028, 2.76079354, 2.7925268 , 2.82426006,\n",
       "       2.85599332, 2.88772658, 2.91945984, 2.9511931 , 2.98292636,\n",
       "       3.01465962, 3.04639288, 3.07812614, 3.10985939, 3.14159265])"
      ]
     },
     "execution_count": 14,
     "metadata": {},
     "output_type": "execute_result"
    }
   ],
   "source": [
    "import math\n",
    "pi_slicing = np.linspace(0, math.pi, 100)\n",
    "pi_slicing"
   ]
  },
  {
   "cell_type": "code",
   "execution_count": 17,
   "metadata": {},
   "outputs": [
    {
     "data": {
      "text/plain": [
       "array([0.        , 0.31733259, 0.63466518, 0.95199777, 1.26933037,\n",
       "       1.58666296, 1.90399555, 2.22132814, 2.53866073, 2.85599332])"
      ]
     },
     "execution_count": 17,
     "metadata": {},
     "output_type": "execute_result"
    }
   ],
   "source": [
    "pi_slicing[::10]"
   ]
  },
  {
   "cell_type": "code",
   "execution_count": 16,
   "metadata": {},
   "outputs": [
    {
     "data": {
      "text/plain": [
       "array([3.14159265, 3.10985939, 3.07812614, 3.04639288, 3.01465962,\n",
       "       2.98292636, 2.9511931 , 2.91945984, 2.88772658, 2.85599332,\n",
       "       2.82426006, 2.7925268 , 2.76079354, 2.72906028, 2.69732703,\n",
       "       2.66559377, 2.63386051, 2.60212725, 2.57039399, 2.53866073,\n",
       "       2.50692747, 2.47519421, 2.44346095, 2.41172769, 2.37999443,\n",
       "       2.34826118, 2.31652792, 2.28479466, 2.2530614 , 2.22132814,\n",
       "       2.18959488, 2.15786162, 2.12612836, 2.0943951 , 2.06266184,\n",
       "       2.03092858, 1.99919533, 1.96746207, 1.93572881, 1.90399555,\n",
       "       1.87226229, 1.84052903, 1.80879577, 1.77706251, 1.74532925,\n",
       "       1.71359599, 1.68186273, 1.65012947, 1.61839622, 1.58666296,\n",
       "       1.5549297 , 1.52319644, 1.49146318, 1.45972992, 1.42799666,\n",
       "       1.3962634 , 1.36453014, 1.33279688, 1.30106362, 1.26933037,\n",
       "       1.23759711, 1.20586385, 1.17413059, 1.14239733, 1.11066407,\n",
       "       1.07893081, 1.04719755, 1.01546429, 0.98373103, 0.95199777,\n",
       "       0.92026451, 0.88853126, 0.856798  , 0.82506474, 0.79333148,\n",
       "       0.76159822, 0.72986496, 0.6981317 , 0.66639844, 0.63466518,\n",
       "       0.60293192, 0.57119866, 0.53946541, 0.50773215, 0.47599889,\n",
       "       0.44426563, 0.41253237, 0.38079911, 0.34906585, 0.31733259,\n",
       "       0.28559933, 0.25386607, 0.22213281, 0.19039955, 0.1586663 ,\n",
       "       0.12693304, 0.09519978, 0.06346652, 0.03173326, 0.        ])"
      ]
     },
     "execution_count": 16,
     "metadata": {},
     "output_type": "execute_result"
    }
   ],
   "source": [
    "pi_slicing[::-1]"
   ]
  },
  {
   "cell_type": "code",
   "execution_count": 49,
   "metadata": {},
   "outputs": [
    {
     "name": "stdout",
     "output_type": "stream",
     "text": [
      "0.0\n",
      "0.03173325912716963\n",
      "0.06346651825433926\n",
      "0.0951997773815089\n",
      "0.12693303650867852\n",
      "0.15866629563584814\n",
      "0.1903995547630178\n",
      "0.2221328138901874\n",
      "0.25386607301735703\n",
      "0.28559933214452665\n",
      "0.3173325912716963\n",
      "0.3490658503988659\n",
      "0.3807991095260356\n",
      "0.4125323686532052\n",
      "0.4442656277803748\n",
      "0.47599888690754444\n",
      "0.5077321460347141\n",
      "0.5394654051618837\n",
      "0.5711986642890533\n",
      "0.6029319234162229\n",
      "0.6346651825433925\n",
      "0.6663984416705622\n",
      "0.6981317007977318\n",
      "0.7298649599249014\n",
      "0.7615982190520711\n",
      "0.7933314781792408\n",
      "0.8250647373064104\n"
     ]
    }
   ],
   "source": [
    "for i in pi_slicing:\n",
    "    if (np.sin(i) - np.cos(i)) < 0.1:\n",
    "        print (i)\n",
    "\n",
    "#print (np.where((np.sin(pi_slicing) - np.cos(pi_slicing)) < 0.1 ))"
   ]
  },
  {
   "cell_type": "markdown",
   "metadata": {},
   "source": [
    "5\\. Create a matrix that shows the 10 by 10 multiplication table.\n",
    "\n",
    " * Find the trace of the matrix\n",
    " * Extract the anti-diagonal matrix (this should be ```array([10, 18, 24, 28, 30, 30, 28, 24, 18, 10])```)\n",
    " * Extract the diagonal offset by 1 upwards (this should be ```array([ 2,  6, 12, 20, 30, 42, 56, 72, 90])```)"
   ]
  },
  {
   "cell_type": "code",
   "execution_count": 53,
   "metadata": {},
   "outputs": [
    {
     "name": "stdout",
     "output_type": "stream",
     "text": [
      "[[  1   2   3   4   5   6   7   8   9  10]\n",
      " [  2   4   6   8  10  12  14  16  18  20]\n",
      " [  3   6   9  12  15  18  21  24  27  30]\n",
      " [  4   8  12  16  20  24  28  32  36  40]\n",
      " [  5  10  15  20  25  30  35  40  45  50]\n",
      " [  6  12  18  24  30  36  42  48  54  60]\n",
      " [  7  14  21  28  35  42  49  56  63  70]\n",
      " [  8  16  24  32  40  48  56  64  72  80]\n",
      " [  9  18  27  36  45  54  63  72  81  90]\n",
      " [ 10  20  30  40  50  60  70  80  90 100]]\n"
     ]
    }
   ],
   "source": [
    "rng = np.arange(1, 10+1)\n",
    "mul_10 = rng * rng[:, None]\n",
    "print (mul_10)"
   ]
  },
  {
   "cell_type": "code",
   "execution_count": 54,
   "metadata": {},
   "outputs": [
    {
     "data": {
      "text/plain": [
       "array([10, 18, 24, 28, 30, 30, 28, 24, 18, 10])"
      ]
     },
     "execution_count": 54,
     "metadata": {},
     "output_type": "execute_result"
    }
   ],
   "source": [
    "np.fliplr(mul_10).diagonal()"
   ]
  },
  {
   "cell_type": "code",
   "execution_count": 57,
   "metadata": {},
   "outputs": [
    {
     "data": {
      "text/plain": [
       "array([ 2,  6, 12, 20, 30, 42, 56, 72, 90])"
      ]
     },
     "execution_count": 57,
     "metadata": {},
     "output_type": "execute_result"
    }
   ],
   "source": [
    "np.diagonal(mul_10, 1)"
   ]
  },
  {
   "cell_type": "markdown",
   "metadata": {},
   "source": [
    "6\\. Use broadcasting to create a grid of distances.\n",
    "\n",
    "Route 66 crosses the following cities in the US: Chicago, Springfield, Saint-Louis, Tulsa, Oklahoma City, Amarillo, Santa Fe, Albuquerque, Flagstaff, Los Angeles\n",
    "The corresponding positions in miles are: 0, 198, 303, 736, 871, 1175, 1475, 1544, 1913, 2448\n",
    "\n",
    "  * Build a 2D grid of distances among each city along Route 66\n",
    "  * Convert the distances in km"
   ]
  },
  {
   "cell_type": "code",
   "execution_count": 1,
   "metadata": {},
   "outputs": [
    {
     "data": {
      "text/html": [
       "<div>\n",
       "<style scoped>\n",
       "    .dataframe tbody tr th:only-of-type {\n",
       "        vertical-align: middle;\n",
       "    }\n",
       "\n",
       "    .dataframe tbody tr th {\n",
       "        vertical-align: top;\n",
       "    }\n",
       "\n",
       "    .dataframe thead th {\n",
       "        text-align: right;\n",
       "    }\n",
       "</style>\n",
       "<table border=\"1\" class=\"dataframe\">\n",
       "  <thead>\n",
       "    <tr style=\"text-align: right;\">\n",
       "      <th></th>\n",
       "      <th>Chicago</th>\n",
       "      <th>Springfield</th>\n",
       "      <th>Saint-Louis</th>\n",
       "      <th>Tulsa</th>\n",
       "      <th>Oklahoma City</th>\n",
       "      <th>Amarillo</th>\n",
       "      <th>Santa Fe</th>\n",
       "      <th>Albuquerque</th>\n",
       "      <th>Flagstaff</th>\n",
       "      <th>Los Angeles</th>\n",
       "    </tr>\n",
       "  </thead>\n",
       "  <tbody>\n",
       "    <tr>\n",
       "      <th>Chicago</th>\n",
       "      <td>0</td>\n",
       "      <td>198</td>\n",
       "      <td>303</td>\n",
       "      <td>736</td>\n",
       "      <td>871</td>\n",
       "      <td>1175</td>\n",
       "      <td>1475</td>\n",
       "      <td>1544</td>\n",
       "      <td>1913</td>\n",
       "      <td>2448</td>\n",
       "    </tr>\n",
       "    <tr>\n",
       "      <th>Springfield</th>\n",
       "      <td>198</td>\n",
       "      <td>0</td>\n",
       "      <td>105</td>\n",
       "      <td>538</td>\n",
       "      <td>673</td>\n",
       "      <td>977</td>\n",
       "      <td>1277</td>\n",
       "      <td>1346</td>\n",
       "      <td>1715</td>\n",
       "      <td>2250</td>\n",
       "    </tr>\n",
       "    <tr>\n",
       "      <th>Saint-Louis</th>\n",
       "      <td>303</td>\n",
       "      <td>105</td>\n",
       "      <td>0</td>\n",
       "      <td>433</td>\n",
       "      <td>568</td>\n",
       "      <td>872</td>\n",
       "      <td>1172</td>\n",
       "      <td>1241</td>\n",
       "      <td>1610</td>\n",
       "      <td>2145</td>\n",
       "    </tr>\n",
       "    <tr>\n",
       "      <th>Tulsa</th>\n",
       "      <td>736</td>\n",
       "      <td>538</td>\n",
       "      <td>433</td>\n",
       "      <td>0</td>\n",
       "      <td>135</td>\n",
       "      <td>439</td>\n",
       "      <td>739</td>\n",
       "      <td>808</td>\n",
       "      <td>1177</td>\n",
       "      <td>1712</td>\n",
       "    </tr>\n",
       "    <tr>\n",
       "      <th>Oklahoma City</th>\n",
       "      <td>871</td>\n",
       "      <td>673</td>\n",
       "      <td>568</td>\n",
       "      <td>135</td>\n",
       "      <td>0</td>\n",
       "      <td>304</td>\n",
       "      <td>604</td>\n",
       "      <td>673</td>\n",
       "      <td>1042</td>\n",
       "      <td>1577</td>\n",
       "    </tr>\n",
       "    <tr>\n",
       "      <th>Amarillo</th>\n",
       "      <td>1175</td>\n",
       "      <td>977</td>\n",
       "      <td>872</td>\n",
       "      <td>439</td>\n",
       "      <td>304</td>\n",
       "      <td>0</td>\n",
       "      <td>300</td>\n",
       "      <td>369</td>\n",
       "      <td>738</td>\n",
       "      <td>1273</td>\n",
       "    </tr>\n",
       "    <tr>\n",
       "      <th>Santa Fe</th>\n",
       "      <td>1475</td>\n",
       "      <td>1277</td>\n",
       "      <td>1172</td>\n",
       "      <td>739</td>\n",
       "      <td>604</td>\n",
       "      <td>300</td>\n",
       "      <td>0</td>\n",
       "      <td>69</td>\n",
       "      <td>438</td>\n",
       "      <td>973</td>\n",
       "    </tr>\n",
       "    <tr>\n",
       "      <th>Albuquerque</th>\n",
       "      <td>1544</td>\n",
       "      <td>1346</td>\n",
       "      <td>1241</td>\n",
       "      <td>808</td>\n",
       "      <td>673</td>\n",
       "      <td>369</td>\n",
       "      <td>69</td>\n",
       "      <td>0</td>\n",
       "      <td>369</td>\n",
       "      <td>904</td>\n",
       "    </tr>\n",
       "    <tr>\n",
       "      <th>Flagstaff</th>\n",
       "      <td>1913</td>\n",
       "      <td>1715</td>\n",
       "      <td>1610</td>\n",
       "      <td>1177</td>\n",
       "      <td>1042</td>\n",
       "      <td>738</td>\n",
       "      <td>438</td>\n",
       "      <td>369</td>\n",
       "      <td>0</td>\n",
       "      <td>535</td>\n",
       "    </tr>\n",
       "    <tr>\n",
       "      <th>Los Angeles</th>\n",
       "      <td>2448</td>\n",
       "      <td>2250</td>\n",
       "      <td>2145</td>\n",
       "      <td>1712</td>\n",
       "      <td>1577</td>\n",
       "      <td>1273</td>\n",
       "      <td>973</td>\n",
       "      <td>904</td>\n",
       "      <td>535</td>\n",
       "      <td>0</td>\n",
       "    </tr>\n",
       "  </tbody>\n",
       "</table>\n",
       "</div>"
      ],
      "text/plain": [
       "               Chicago  Springfield  Saint-Louis  Tulsa  Oklahoma City  \\\n",
       "Chicago              0          198          303    736            871   \n",
       "Springfield        198            0          105    538            673   \n",
       "Saint-Louis        303          105            0    433            568   \n",
       "Tulsa              736          538          433      0            135   \n",
       "Oklahoma City      871          673          568    135              0   \n",
       "Amarillo          1175          977          872    439            304   \n",
       "Santa Fe          1475         1277         1172    739            604   \n",
       "Albuquerque       1544         1346         1241    808            673   \n",
       "Flagstaff         1913         1715         1610   1177           1042   \n",
       "Los Angeles       2448         2250         2145   1712           1577   \n",
       "\n",
       "               Amarillo  Santa Fe  Albuquerque  Flagstaff  Los Angeles  \n",
       "Chicago            1175      1475         1544       1913         2448  \n",
       "Springfield         977      1277         1346       1715         2250  \n",
       "Saint-Louis         872      1172         1241       1610         2145  \n",
       "Tulsa               439       739          808       1177         1712  \n",
       "Oklahoma City       304       604          673       1042         1577  \n",
       "Amarillo              0       300          369        738         1273  \n",
       "Santa Fe            300         0           69        438          973  \n",
       "Albuquerque         369        69            0        369          904  \n",
       "Flagstaff           738       438          369          0          535  \n",
       "Los Angeles        1273       973          904        535            0  "
      ]
     },
     "execution_count": 1,
     "metadata": {},
     "output_type": "execute_result"
    }
   ],
   "source": [
    "import numpy as np\n",
    "import pandas as pd\n",
    "\n",
    "distance_miles = np.array([0, 198, 303, 736, 871, 1175, 1475, 1544, 1913, 2448])\n",
    "distance_arr = np.abs(distance_miles - distance_miles[:, np.newaxis])\n",
    "distance_arr\n",
    "cities=('Chicago', 'Springfield', 'Saint-Louis', 'Tulsa', 'Oklahoma City', 'Amarillo', 'Santa Fe',\n",
    "        'Albuquerque', 'Flagstaff', 'Los Angeles')\n",
    "\n",
    "names = [_ for _ in cities]\n",
    "df = pd.DataFrame(distance_arr, index=names, columns=names)\n",
    "df.to_csv('df.csv', index=True, header=True, sep=' ')\n",
    "\n",
    "df"
   ]
  },
  {
   "cell_type": "code",
   "execution_count": 2,
   "metadata": {},
   "outputs": [
    {
     "data": {
      "text/html": [
       "<div>\n",
       "<style scoped>\n",
       "    .dataframe tbody tr th:only-of-type {\n",
       "        vertical-align: middle;\n",
       "    }\n",
       "\n",
       "    .dataframe tbody tr th {\n",
       "        vertical-align: top;\n",
       "    }\n",
       "\n",
       "    .dataframe thead th {\n",
       "        text-align: right;\n",
       "    }\n",
       "</style>\n",
       "<table border=\"1\" class=\"dataframe\">\n",
       "  <thead>\n",
       "    <tr style=\"text-align: right;\">\n",
       "      <th></th>\n",
       "      <th>Chicago</th>\n",
       "      <th>Springfield</th>\n",
       "      <th>Saint-Louis</th>\n",
       "      <th>Tulsa</th>\n",
       "      <th>Oklahoma City</th>\n",
       "      <th>Amarillo</th>\n",
       "      <th>Santa Fe</th>\n",
       "      <th>Albuquerque</th>\n",
       "      <th>Flagstaff</th>\n",
       "      <th>Los Angeles</th>\n",
       "    </tr>\n",
       "  </thead>\n",
       "  <tbody>\n",
       "    <tr>\n",
       "      <th>Chicago</th>\n",
       "      <td>0.0</td>\n",
       "      <td>316.8</td>\n",
       "      <td>484.8</td>\n",
       "      <td>1177.6</td>\n",
       "      <td>1393.6</td>\n",
       "      <td>1880.0</td>\n",
       "      <td>2360.0</td>\n",
       "      <td>2470.4</td>\n",
       "      <td>3060.8</td>\n",
       "      <td>3916.8</td>\n",
       "    </tr>\n",
       "    <tr>\n",
       "      <th>Springfield</th>\n",
       "      <td>316.8</td>\n",
       "      <td>0.0</td>\n",
       "      <td>168.0</td>\n",
       "      <td>860.8</td>\n",
       "      <td>1076.8</td>\n",
       "      <td>1563.2</td>\n",
       "      <td>2043.2</td>\n",
       "      <td>2153.6</td>\n",
       "      <td>2744.0</td>\n",
       "      <td>3600.0</td>\n",
       "    </tr>\n",
       "    <tr>\n",
       "      <th>Saint-Louis</th>\n",
       "      <td>484.8</td>\n",
       "      <td>168.0</td>\n",
       "      <td>0.0</td>\n",
       "      <td>692.8</td>\n",
       "      <td>908.8</td>\n",
       "      <td>1395.2</td>\n",
       "      <td>1875.2</td>\n",
       "      <td>1985.6</td>\n",
       "      <td>2576.0</td>\n",
       "      <td>3432.0</td>\n",
       "    </tr>\n",
       "    <tr>\n",
       "      <th>Tulsa</th>\n",
       "      <td>1177.6</td>\n",
       "      <td>860.8</td>\n",
       "      <td>692.8</td>\n",
       "      <td>0.0</td>\n",
       "      <td>216.0</td>\n",
       "      <td>702.4</td>\n",
       "      <td>1182.4</td>\n",
       "      <td>1292.8</td>\n",
       "      <td>1883.2</td>\n",
       "      <td>2739.2</td>\n",
       "    </tr>\n",
       "    <tr>\n",
       "      <th>Oklahoma City</th>\n",
       "      <td>1393.6</td>\n",
       "      <td>1076.8</td>\n",
       "      <td>908.8</td>\n",
       "      <td>216.0</td>\n",
       "      <td>0.0</td>\n",
       "      <td>486.4</td>\n",
       "      <td>966.4</td>\n",
       "      <td>1076.8</td>\n",
       "      <td>1667.2</td>\n",
       "      <td>2523.2</td>\n",
       "    </tr>\n",
       "    <tr>\n",
       "      <th>Amarillo</th>\n",
       "      <td>1880.0</td>\n",
       "      <td>1563.2</td>\n",
       "      <td>1395.2</td>\n",
       "      <td>702.4</td>\n",
       "      <td>486.4</td>\n",
       "      <td>0.0</td>\n",
       "      <td>480.0</td>\n",
       "      <td>590.4</td>\n",
       "      <td>1180.8</td>\n",
       "      <td>2036.8</td>\n",
       "    </tr>\n",
       "    <tr>\n",
       "      <th>Santa Fe</th>\n",
       "      <td>2360.0</td>\n",
       "      <td>2043.2</td>\n",
       "      <td>1875.2</td>\n",
       "      <td>1182.4</td>\n",
       "      <td>966.4</td>\n",
       "      <td>480.0</td>\n",
       "      <td>0.0</td>\n",
       "      <td>110.4</td>\n",
       "      <td>700.8</td>\n",
       "      <td>1556.8</td>\n",
       "    </tr>\n",
       "    <tr>\n",
       "      <th>Albuquerque</th>\n",
       "      <td>2470.4</td>\n",
       "      <td>2153.6</td>\n",
       "      <td>1985.6</td>\n",
       "      <td>1292.8</td>\n",
       "      <td>1076.8</td>\n",
       "      <td>590.4</td>\n",
       "      <td>110.4</td>\n",
       "      <td>0.0</td>\n",
       "      <td>590.4</td>\n",
       "      <td>1446.4</td>\n",
       "    </tr>\n",
       "    <tr>\n",
       "      <th>Flagstaff</th>\n",
       "      <td>3060.8</td>\n",
       "      <td>2744.0</td>\n",
       "      <td>2576.0</td>\n",
       "      <td>1883.2</td>\n",
       "      <td>1667.2</td>\n",
       "      <td>1180.8</td>\n",
       "      <td>700.8</td>\n",
       "      <td>590.4</td>\n",
       "      <td>0.0</td>\n",
       "      <td>856.0</td>\n",
       "    </tr>\n",
       "    <tr>\n",
       "      <th>Los Angeles</th>\n",
       "      <td>3916.8</td>\n",
       "      <td>3600.0</td>\n",
       "      <td>3432.0</td>\n",
       "      <td>2739.2</td>\n",
       "      <td>2523.2</td>\n",
       "      <td>2036.8</td>\n",
       "      <td>1556.8</td>\n",
       "      <td>1446.4</td>\n",
       "      <td>856.0</td>\n",
       "      <td>0.0</td>\n",
       "    </tr>\n",
       "  </tbody>\n",
       "</table>\n",
       "</div>"
      ],
      "text/plain": [
       "               Chicago  Springfield  Saint-Louis   Tulsa  Oklahoma City  \\\n",
       "Chicago            0.0        316.8        484.8  1177.6         1393.6   \n",
       "Springfield      316.8          0.0        168.0   860.8         1076.8   \n",
       "Saint-Louis      484.8        168.0          0.0   692.8          908.8   \n",
       "Tulsa           1177.6        860.8        692.8     0.0          216.0   \n",
       "Oklahoma City   1393.6       1076.8        908.8   216.0            0.0   \n",
       "Amarillo        1880.0       1563.2       1395.2   702.4          486.4   \n",
       "Santa Fe        2360.0       2043.2       1875.2  1182.4          966.4   \n",
       "Albuquerque     2470.4       2153.6       1985.6  1292.8         1076.8   \n",
       "Flagstaff       3060.8       2744.0       2576.0  1883.2         1667.2   \n",
       "Los Angeles     3916.8       3600.0       3432.0  2739.2         2523.2   \n",
       "\n",
       "               Amarillo  Santa Fe  Albuquerque  Flagstaff  Los Angeles  \n",
       "Chicago          1880.0    2360.0       2470.4     3060.8       3916.8  \n",
       "Springfield      1563.2    2043.2       2153.6     2744.0       3600.0  \n",
       "Saint-Louis      1395.2    1875.2       1985.6     2576.0       3432.0  \n",
       "Tulsa             702.4    1182.4       1292.8     1883.2       2739.2  \n",
       "Oklahoma City     486.4     966.4       1076.8     1667.2       2523.2  \n",
       "Amarillo            0.0     480.0        590.4     1180.8       2036.8  \n",
       "Santa Fe          480.0       0.0        110.4      700.8       1556.8  \n",
       "Albuquerque       590.4     110.4          0.0      590.4       1446.4  \n",
       "Flagstaff        1180.8     700.8        590.4        0.0        856.0  \n",
       "Los Angeles      2036.8    1556.8       1446.4      856.0          0.0  "
      ]
     },
     "execution_count": 2,
     "metadata": {},
     "output_type": "execute_result"
    }
   ],
   "source": [
    "# conversion factor\n",
    "conv_fac = 1.6\n",
    "# calculate miles\n",
    "KM = df * conv_fac\n",
    "\n",
    "KM"
   ]
  },
  {
   "cell_type": "markdown",
   "metadata": {},
   "source": [
    "7\\. Prime numbers sieve: compute the prime numbers in the 0-N (start with N=99) range with a sieve (mask).\n",
    "  * Check the performances (timeit); how does it scale with N?\n",
    "  * Implement the optimization suggested in the [sieve of Eratosthenes](https://en.wikipedia.org/wiki/Sieve_of_Eratosthenes)"
   ]
  },
  {
   "cell_type": "code",
   "execution_count": 11,
   "metadata": {},
   "outputs": [
    {
     "data": {
      "text/plain": [
       "Text(0, 0.5, 'execution time [s]')"
      ]
     },
     "execution_count": 11,
     "metadata": {},
     "output_type": "execute_result"
    },
    {
     "data": {
      "image/png": "[encoded data removed]",
      "text/plain": [
       "<Figure size 432x288 with 1 Axes>"
      ]
     },
     "metadata": {
      "needs_background": "light"
     },
     "output_type": "display_data"
    }
   ],
   "source": [
    "import timeit\n",
    "import matplotlib.pyplot as plt \n",
    "\n",
    "def sieveOfEratosthenes(n):\n",
    "    primes_mask = [True for i in range(n+1)]\n",
    "    primes_mask[0]= False\n",
    "    primes_mask[1]= False\n",
    "    prime_list=[]\n",
    "    a = 2\n",
    "    while (a*a<= n):\n",
    "        if (primes_mask[a] == True):\n",
    "            for i in range(a*a, n + 1, a):\n",
    "                primes_mask[i] = False\n",
    "        a += 1\n",
    "    for a in range(n + 1):\n",
    "        if primes_mask[a]:\n",
    "            prime_list.append(a)\n",
    "    return prime_list\n",
    "\n",
    "execution_times = []\n",
    "max_n = 100000\n",
    "step = 100\n",
    "for i in range(2,max_n+1,step):\n",
    "    starttime = timeit.default_timer()\n",
    "    prime_list = sieveOfEratosthenes(i)\n",
    "    endtime = timeit.default_timer()\n",
    "    execution_times.append(endtime-starttime)\n",
    "    \n",
    "plt.plot(range(2,max_n+1,step),execution_times)\n",
    "plt.title('Sieve of Eratosthenes algorithm')\n",
    "plt.xlabel('n')\n",
    "plt.ylabel('execution time [s]')"
   ]
  },
  {
   "cell_type": "code",
   "execution_count": null,
   "metadata": {},
   "outputs": [],
   "source": []
  }
 ],
 "metadata": {
  "kernelspec": {
   "display_name": "Python 3 (ipykernel)",
   "language": "python",
   "name": "python3"
  },
  "language_info": {
   "codemirror_mode": {
    "name": "ipython",
    "version": 3
   },
   "file_extension": ".py",
   "mimetype": "text/x-python",
   "name": "python",
   "nbconvert_exporter": "python",
   "pygments_lexer": "ipython3",
   "version": "3.9.2"
  }
 },
 "nbformat": 4,
 "nbformat_minor": 2
}
